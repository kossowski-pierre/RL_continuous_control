{
 "cells": [
  {
   "cell_type": "markdown",
   "metadata": {},
   "source": [
    "# Continuous Control\n",
    "\n",
    "---\n",
    "\n",
    "In this notebook, you will learn how to use the Unity ML-Agents environment for the second project of the [Deep Reinforcement Learning Nanodegree](https://www.udacity.com/course/deep-reinforcement-learning-nanodegree--nd893) program.\n",
    "\n",
    "### 1. Start the Environment\n",
    "\n",
    "We begin by importing the necessary packages.  If the code cell below returns an error, please revisit the project instructions to double-check that you have installed [Unity ML-Agents](https://github.com/Unity-Technologies/ml-agents/blob/master/docs/Installation.md) and [NumPy](http://www.numpy.org/)."
   ]
  },
  {
   "cell_type": "code",
   "execution_count": 1,
   "metadata": {},
   "outputs": [],
   "source": [
    "from unityagents import UnityEnvironment\n",
    "import numpy as np\n"
   ]
  },
  {
   "cell_type": "markdown",
   "metadata": {},
   "source": [
    "Next, we will start the environment!  **_Before running the code cell below_**, change the `file_name` parameter to match the location of the Unity environment that you downloaded.\n",
    "\n",
    "- **Mac**: `\"path/to/Reacher.app\"`\n",
    "- **Windows** (x86): `\"path/to/Reacher_Windows_x86/Reacher.exe\"`\n",
    "- **Windows** (x86_64): `\"path/to/Reacher_Windows_x86_64/Reacher.exe\"`\n",
    "- **Linux** (x86): `\"path/to/Reacher_Linux/Reacher.x86\"`\n",
    "- **Linux** (x86_64): `\"path/to/Reacher_Linux/Reacher.x86_64\"`\n",
    "- **Linux** (x86, headless): `\"path/to/Reacher_Linux_NoVis/Reacher.x86\"`\n",
    "- **Linux** (x86_64, headless): `\"path/to/Reacher_Linux_NoVis/Reacher.x86_64\"`\n",
    "\n",
    "For instance, if you are using a Mac, then you downloaded `Reacher.app`.  If this file is in the same folder as the notebook, then the line below should appear as follows:\n",
    "```\n",
    "env = UnityEnvironment(file_name=\"Reacher.app\")\n",
    "```"
   ]
  },
  {
   "cell_type": "code",
   "execution_count": 2,
   "metadata": {},
   "outputs": [
    {
     "name": "stderr",
     "output_type": "stream",
     "text": [
      "INFO:unityagents:\n",
      "'Academy' started successfully!\n",
      "Unity Academy name: Academy\n",
      "        Number of Brains: 1\n",
      "        Number of External Brains : 1\n",
      "        Lesson number : 0\n",
      "        Reset Parameters :\n",
      "\t\tgoal_speed -> 1.0\n",
      "\t\tgoal_size -> 5.0\n",
      "Unity brain name: ReacherBrain\n",
      "        Number of Visual Observations (per agent): 0\n",
      "        Vector Observation space type: continuous\n",
      "        Vector Observation space size (per agent): 33\n",
      "        Number of stacked Vector Observation: 1\n",
      "        Vector Action space type: continuous\n",
      "        Vector Action space size (per agent): 4\n",
      "        Vector Action descriptions: , , , \n"
     ]
    }
   ],
   "source": [
    "#env = UnityEnvironment(file_name='Reacher_Windows_x86_64_one/Reacher_Windows_x86_64/Reacher.exe')\n",
    "env = UnityEnvironment(file_name='Reacher_Windows_x86_64/Reacher_Windows_x86_64/Reacher.exe')"
   ]
  },
  {
   "cell_type": "markdown",
   "metadata": {},
   "source": [
    "Environments contain **_brains_** which are responsible for deciding the actions of their associated agents. Here we check for the first brain available, and set it as the default brain we will be controlling from Python."
   ]
  },
  {
   "cell_type": "code",
   "execution_count": 3,
   "metadata": {},
   "outputs": [],
   "source": [
    "# get the default brain\n",
    "brain_name = env.brain_names[0]\n",
    "brain = env.brains[brain_name]"
   ]
  },
  {
   "cell_type": "code",
   "execution_count": 4,
   "metadata": {},
   "outputs": [
    {
     "data": {
      "text/plain": [
       "'ReacherBrain'"
      ]
     },
     "execution_count": 4,
     "metadata": {},
     "output_type": "execute_result"
    }
   ],
   "source": [
    "brain_name "
   ]
  },
  {
   "cell_type": "markdown",
   "metadata": {},
   "source": [
    "### 2. Examine the State and Action Spaces\n",
    "\n",
    "In this environment, a double-jointed arm can move to target locations. A reward of `+0.1` is provided for each step that the agent's hand is in the goal location. Thus, the goal of your agent is to maintain its position at the target location for as many time steps as possible.\n",
    "\n",
    "The observation space consists of `33` variables corresponding to position, rotation, velocity, and angular velocities of the arm.  Each action is a vector with four numbers, corresponding to torque applicable to two joints.  Every entry in the action vector must be a number between `-1` and `1`.\n",
    "\n",
    "Run the code cell below to print some information about the environment."
   ]
  },
  {
   "cell_type": "code",
   "execution_count": 5,
   "metadata": {},
   "outputs": [
    {
     "name": "stdout",
     "output_type": "stream",
     "text": [
      "Number of agents: 20\n",
      "Size of each action: 4\n",
      "There are 20 agents. Each observes a state with length: 33\n",
      "The state for the first agent looks like: [ 0.00000000e+00 -4.00000000e+00  0.00000000e+00  1.00000000e+00\n",
      " -0.00000000e+00 -0.00000000e+00 -4.37113883e-08  0.00000000e+00\n",
      "  0.00000000e+00  0.00000000e+00  0.00000000e+00  0.00000000e+00\n",
      "  0.00000000e+00  0.00000000e+00 -1.00000000e+01  0.00000000e+00\n",
      "  1.00000000e+00 -0.00000000e+00 -0.00000000e+00 -4.37113883e-08\n",
      "  0.00000000e+00  0.00000000e+00  0.00000000e+00  0.00000000e+00\n",
      "  0.00000000e+00  0.00000000e+00  5.75471878e+00 -1.00000000e+00\n",
      "  5.55726624e+00  0.00000000e+00  1.00000000e+00  0.00000000e+00\n",
      " -1.68164849e-01]\n"
     ]
    }
   ],
   "source": [
    "# reset the environment\n",
    "env_info = env.reset(train_mode=True)[brain_name]\n",
    "\n",
    "# number of agents\n",
    "num_agents = len(env_info.agents)\n",
    "print('Number of agents:', num_agents)\n",
    "\n",
    "# size of each action\n",
    "action_size = brain.vector_action_space_size\n",
    "print('Size of each action:', action_size)\n",
    "\n",
    "# examine the state space \n",
    "states = env_info.vector_observations\n",
    "state_size = states.shape[1]\n",
    "print('There are {} agents. Each observes a state with length: {}'.format(states.shape[0], state_size))\n",
    "print('The state for the first agent looks like:', states[0])"
   ]
  },
  {
   "cell_type": "markdown",
   "metadata": {},
   "source": [
    "### 3. Take Random Actions in the Environment\n",
    "\n",
    "In the next code cell, you will learn how to use the Python API to control the agent and receive feedback from the environment.\n",
    "\n",
    "Once this cell is executed, you will watch the agent's performance, if it selects an action at random with each time step.  A window should pop up that allows you to observe the agent, as it moves through the environment.  \n",
    "\n",
    "Of course, as part of the project, you'll have to change the code so that the agent is able to use its experience to gradually choose better actions when interacting with the environment!"
   ]
  },
  {
   "cell_type": "code",
   "execution_count": 6,
   "metadata": {},
   "outputs": [
    {
     "data": {
      "text/plain": [
       "<unityagents.brain.BrainInfo at 0x14bffd36670>"
      ]
     },
     "execution_count": 6,
     "metadata": {},
     "output_type": "execute_result"
    }
   ],
   "source": [
    "env_info"
   ]
  },
  {
   "cell_type": "markdown",
   "metadata": {},
   "source": [
    "env_info = env.reset(train_mode=False)[brain_name]     # reset the environment    \n",
    "states = env_info.vector_observations\n",
    "#print(\"states: \", states)# get the current state (for each agent)\n",
    "scores = np.zeros(num_agents)                          # initialize the score (for each agent)\n",
    "while True:\n",
    "    actions = np.random.randn(num_agents, action_size) # select an action (for each agent)\n",
    "    actions = np.clip(actions, -1, 1)                  # all actions between -1 and 1\n",
    "    env_info = env.step(actions)[brain_name]           # send all actions to tne environment\n",
    "    next_states = env_info.vector_observations         # get next state (for each agent)\n",
    "    rewards = env_info.rewards                         # get reward (for each agent)\n",
    "    dones = env_info.local_done                        # see if episode finished\n",
    "    scores += env_info.rewards                         # update the score (for each agent)\n",
    "    states = next_states                               # roll over states to next time step\n",
    "    if np.any(dones):                                  # exit loop if episode finished\n",
    "        break\n",
    "print('Total score (averaged over agents) this episode: {}'.format(np.mean(scores)))"
   ]
  },
  {
   "cell_type": "markdown",
   "metadata": {},
   "source": [
    "When finished, you can close the environment."
   ]
  },
  {
   "cell_type": "code",
   "execution_count": 7,
   "metadata": {},
   "outputs": [],
   "source": [
    "#env.close()"
   ]
  },
  {
   "cell_type": "markdown",
   "metadata": {},
   "source": [
    "### 4. It's Your Turn!\n",
    "\n",
    "Now it's your turn to train your own agent to solve the environment!  When training the environment, set `train_mode=True`, so that the line for resetting the environment looks like the following:\n",
    "```python\n",
    "env_info = env.reset(train_mode=True)[brain_name]\n",
    "```"
   ]
  },
  {
   "cell_type": "code",
   "execution_count": 8,
   "metadata": {},
   "outputs": [],
   "source": [
    "from model import Actor_PPO, Critic_PPO\n",
    "\n",
    "import matplotlib.pyplot as plt\n",
    "\n",
    "import torch\n",
    "import torch.nn.functional as F\n",
    "import torch.optim as optim\n",
    "\n",
    "import random\n",
    "from collections import namedtuple, deque\n",
    "import copy\n",
    "#https://github.com/A-Bergonzoli/PPO_implementation_v4.0"
   ]
  },
  {
   "cell_type": "code",
   "execution_count": 9,
   "metadata": {},
   "outputs": [],
   "source": [
    "device = torch.device(\"cuda:0\" if torch.cuda.is_available() else \"cpu\")"
   ]
  },
  {
   "cell_type": "code",
   "execution_count": 10,
   "metadata": {},
   "outputs": [],
   "source": [
    "def hidden_init(layer):\n",
    "    fan_in = layer.weight.data.size()[0]\n",
    "    lim = 1.0 / np.sqrt(fan_in)\n",
    "    return (-lim, lim)\n",
    "import torch\n",
    "import numpy as np\n",
    "lin = torch.nn.Linear(4,80)"
   ]
  },
  {
   "cell_type": "code",
   "execution_count": 11,
   "metadata": {},
   "outputs": [
    {
     "data": {
      "text/plain": [
       "80"
      ]
     },
     "execution_count": 11,
     "metadata": {},
     "output_type": "execute_result"
    }
   ],
   "source": [
    "lin.weight.data.size()[0]"
   ]
  },
  {
   "cell_type": "code",
   "execution_count": 18,
   "metadata": {},
   "outputs": [],
   "source": [
    "\n",
    "BUFFER_SIZE = int(1e6)  # replay buffer size\n",
    "BATCH_SIZE = 256        # minibatch size\n",
    "GAMMA = 0.97            # discount factor\n",
    "TAU = 1e-3              # for soft update of target parameters\n",
    "LR_ACTOR = 1e-4         # learning rate of the actor \n",
    "LR_CRITIC = 3e-4        # learning rate of the critic\n",
    "WEIGHT_DECAY = 0.0001   # L2 weight decay\n",
    "NUM_EPOCHS = 20#20\n",
    "SEED=47\n",
    "LAMBDA=0.5\n",
    "\n",
    "\n",
    "class Agent():\n",
    "    \n",
    "    def __init__(self, state_size, action_size, random_seed, epsilon=0.2, entropy_coef=0.03):\n",
    "        \n",
    "        \n",
    "        self.state_size = state_size\n",
    "        self.action_size = action_size\n",
    "        self.batch_size = BATCH_SIZE\n",
    "        self.num_epochs = NUM_EPOCHS\n",
    "        self.seed = random.seed(random_seed)\n",
    "        self.epsilon = epsilon\n",
    "        self.entropy_coef = entropy_coef\n",
    "        \n",
    "        self.actor_local = Actor_PPO(state_size=state_size, action_size=action_size, size1=256).to(device)\n",
    "        self.actor_optimizer = optim.Adam(self.actor_local.parameters(), lr=LR_ACTOR, weight_decay=WEIGHT_DECAY)\n",
    "            \n",
    "        self.critic_local = Critic_PPO(state_size=state_size,size1=256).to(device)\n",
    "        self.critic_optimizer = optim.Adam(self.critic_local.parameters(), lr=LR_CRITIC, weight_decay=WEIGHT_DECAY)\n",
    "            \n",
    "        self.noise = OUNoise(action_size, random_seed)\n",
    "        \n",
    "        self.memory = Memory()\n",
    "        self.train=True\n",
    "        self.actor_loss_history=[]\n",
    "        self.critic_loss_history=[]\n",
    "            \n",
    "    def step(self, states, actions, rewards, next_states, dones, distributions, log_probs):\n",
    "        states = torch.tensor(states, dtype=torch.float, device=device)\n",
    "        \n",
    "        if self.train:\n",
    "            values = self.critic_local(states)\n",
    "            self.memory.add_steps(states, actions, rewards, dones, values, log_probs)# next_states, \n",
    "        \n",
    "    \n",
    "    def act(self, states, add_noise=False):\n",
    "        states =torch.tensor(states).float().to(device)\n",
    "        self.actor_local.eval()\n",
    "        with torch.no_grad():\n",
    "            actions, distributions = self.actor_local(states)\n",
    "            log_probs = distributions.log_prob(actions)\n",
    "            actions = actions.cpu().numpy()\n",
    "        self.actor_local.train()\n",
    "        if add_noise:\n",
    "            actions += self.noise.sample()\n",
    "        return np.clip(actions, -1, 1), distributions, log_probs\n",
    "        \n",
    "    def reset(self):\n",
    "        self.noise.reset()\n",
    "        \n",
    "    def learn(self,last_states, gamma):\n",
    "        \"\"\"Update policy and value parameters using given batch of experience tuples.\n",
    "        Q_targets = r + γ * critic_target(next_state, actor_target(next_state))\n",
    "        where:\n",
    "            actor (state) -> action, distribution\n",
    "            critic (state) -> State_Value\n",
    "\n",
    "        Params\n",
    "        ======\n",
    "            last_states (numpy.array): next_state \n",
    "            gamma (float): discount factor\n",
    "        \"\"\"\n",
    "        last_values = self.critic_local(torch.FloatTensor(last_states).to(device))\n",
    "\n",
    "        values_copy = self.memory.values.copy()\n",
    "        values_copy.append(last_values.cpu().detach().numpy().squeeze())\n",
    "        returns = self.get_gae(self.memory.rewards, values_copy, self.memory.dones)\n",
    "        \n",
    "        self.returns = returns\n",
    "        actor_losses, critic_losses = [], []\n",
    "        \n",
    "        states = torch.FloatTensor(np.array(self.memory.states)).to(device)\n",
    "        actions = torch.FloatTensor(np.array(self.memory.actions)).to(device)\n",
    "        log_probs = torch.FloatTensor(np.array(self.memory.log_probs)).to(device)\n",
    "        #values = torch.FloatTensor(self.memory.values).to(device)\n",
    "        values = torch.FloatTensor(np.array(values_copy)).to(device)\n",
    "        returns = torch.FloatTensor(np.array(returns)).to(device)\n",
    "        advantages = returns - values[:-1]\n",
    "        #print(\"advantages\",advantages.shape, returns.shape, values.shape)\n",
    "        advantages = (advantages-advantages.mean())/(advantages.std()+10e-7)\n",
    "        self.advantages = advantages\n",
    "        \n",
    "        for state, action, return_, old_log_prob, old_value, advantage in trajectories_data_generator(\n",
    "            states=states,\n",
    "            actions=actions,\n",
    "            returns=returns,\n",
    "            log_probs=log_probs,\n",
    "            values=values,\n",
    "            advantages=advantages,\n",
    "            batch_size=self.batch_size,\n",
    "            num_epochs=self.num_epochs,\n",
    "            ):\n",
    "            \n",
    "            _, new_dist = self.actor_local(state.view(-1,self.state_size))\n",
    "            cur_log_prob = new_dist.log_prob(action.view(-1,self.action_size))\n",
    "            ratio = torch.exp(cur_log_prob - old_log_prob.view(-1,self.action_size))\n",
    "\n",
    "            advantage = advantage.view(-1,1)\n",
    "\n",
    "            # compute entropy\n",
    "            entropy = new_dist.entropy().mean()\n",
    "\n",
    "            # compute actor loss\n",
    "            loss =  advantage * ratio\n",
    "            clipped_loss = (\n",
    "                torch.clamp(ratio, 1. - self.epsilon, 1. + self.epsilon)\n",
    "                 * advantage\n",
    "                )\n",
    "            actor_loss = (\n",
    "                -torch.mean(torch.min(loss, clipped_loss))\n",
    "                - entropy * self.entropy_coef)\n",
    "            \n",
    "            # critic loss, uncoment for clipped value loss too.\n",
    "            cur_value = self.critic_local(state.view(-1,self.state_size))\n",
    "\n",
    "        \n",
    "            critic_loss = F.mse_loss(return_.view(-1,1).detach(), cur_value)\n",
    "        \n",
    "            self.critic_optimizer.zero_grad()\n",
    "        \n",
    "            critic_loss.backward()\n",
    "            torch.nn.utils.clip_grad_norm_(self.critic_local.parameters(), 1)\n",
    "            self.critic_optimizer.step()\n",
    "        \n",
    "            self.actor_optimizer.zero_grad()\n",
    "            actor_loss.backward()\n",
    "            torch.nn.utils.clip_grad_norm_(self.critic_local.parameters(), 1)#0.75\n",
    "            self.actor_optimizer.step()\n",
    "            actor_losses.append(actor_loss.item())\n",
    "            critic_losses.append(critic_loss.item())\n",
    "        \n",
    "        actor_loss = sum(actor_losses) / len(actor_losses)\n",
    "        critic_loss = sum(critic_losses) / len(critic_losses)\n",
    "        self.actor_loss_history.append(actor_loss)\n",
    "        self.critic_loss_history.append(critic_loss)\n",
    "        \n",
    "\n",
    "        \n",
    "    def get_gae(self, rewards, values, dones):\n",
    "        \"\"\"Computes a list of estimators of the advantage function at each timestep of the episode\n",
    "        :param rewards: list of rewards\n",
    "        :param values: list of value function values\n",
    "        :param dones: list of terminal state flags\n",
    "        :return: discounted sum of rewards\n",
    "        \"\"\"\n",
    "        gae=0\n",
    "        returns=[]\n",
    "        for i in reversed(range(len(rewards))):\n",
    "            delta = rewards[i]+GAMMA*values[i+1]*(1-dones[i])-values[i]\n",
    "            gae = delta+GAMMA*LAMBDA*(1-dones[i])*gae\n",
    "            returns.insert(0, gae+values[i])\n",
    "        return returns\n",
    "            \n",
    "        \n",
    "        \n",
    "        \n",
    "        \n",
    "        \n",
    "        \n",
    "class OUNoise:\n",
    "    \"\"\"Ornstein-Uhlenbeck process\"\"\"\n",
    "    def __init__(self, size, seed, mu=0., theta=0.15, sigma=0.05):\n",
    "        self.mu = mu * np.ones(size)\n",
    "        self.theta = theta\n",
    "        self.sigma = sigma\n",
    "        self.seed = random.seed(seed)\n",
    "        self.reset()\n",
    "        \n",
    "    def reset(self):\n",
    "        \"\"\"Update internal state and return it as a noise sample.\"\"\"\n",
    "        self.state = copy.copy(self.mu)\n",
    "    def sample(self):\n",
    "        x=self.state\n",
    "        dx = self.theta*(self.mu - x)+self.sigma* np.random.normal(loc=0, scale=1, size=len(x))\n",
    "        self.state = x+dx\n",
    "        return self.state\n",
    "            \n",
    "\n",
    "class Memory:\n",
    "    \"\"\"Storing the memory of the trajectory (s, a, r ...).\"\"\"\n",
    "    def __init__(self):\n",
    "        self.states = []\n",
    "        self.actions = []\n",
    "        self.rewards = []\n",
    "        self.dones = []\n",
    "        self.log_probs = []\n",
    "        self.values = []\n",
    "    def add_steps(self, states, actions, rewards, dones, values, log_probs):\n",
    "        self.states.append(states.cpu().detach().numpy())#.cpu().detach().numpy()\n",
    "        self.actions.append(actions)\n",
    "        self.rewards.append(np.array(rewards))\n",
    "        self.dones.append(np.array(dones))\n",
    "        self.log_probs.append(log_probs.cpu().detach().numpy())\n",
    "        self.values.append(values.cpu().detach().numpy().squeeze())#.cpu().detach().numpy()\n",
    "        \n",
    "        \n",
    "\n",
    "    def clear_memory(self):\n",
    "        self.states = []\n",
    "        self.actions = []\n",
    "        self.rewards = []\n",
    "        self.dones = []\n",
    "        self.log_probs = []\n",
    "        self.values = []"
   ]
  },
  {
   "cell_type": "code",
   "execution_count": 19,
   "metadata": {},
   "outputs": [],
   "source": [
    "#source : https://github.com/mandrakedrink/PPO-pytorch/blob/master/ppo/utils.py\n",
    "def trajectories_data_generator(\n",
    "    states: torch.Tensor,\n",
    "    actions: torch.Tensor,\n",
    "    returns: torch.Tensor,\n",
    "    log_probs: torch.Tensor,\n",
    "    values: torch.Tensor,\n",
    "    advantages: torch.Tensor,\n",
    "    batch_size,\n",
    "    num_epochs,\n",
    "    ):\n",
    "    \"\"\"data-generator.\"\"\"\n",
    "    data_len = states.size(0)\n",
    "    for _ in range(num_epochs):\n",
    "        for _ in range(data_len // batch_size):\n",
    "            ids = np.random.choice(data_len, batch_size)\n",
    "            yield states[ids], actions[ids], returns[ids], log_probs[ids], values[ids], advantages[ids]"
   ]
  },
  {
   "cell_type": "code",
   "execution_count": 20,
   "metadata": {},
   "outputs": [],
   "source": [
    "#https://github.com/mandrakedrink/PPO-pytorch/blob/master/ppo/ppo.py"
   ]
  },
  {
   "cell_type": "code",
   "execution_count": null,
   "metadata": {},
   "outputs": [],
   "source": []
  },
  {
   "cell_type": "code",
   "execution_count": 21,
   "metadata": {},
   "outputs": [
    {
     "data": {
      "text/plain": [
       "4"
      ]
     },
     "execution_count": 21,
     "metadata": {},
     "output_type": "execute_result"
    }
   ],
   "source": [
    "action_size"
   ]
  },
  {
   "cell_type": "code",
   "execution_count": 22,
   "metadata": {},
   "outputs": [],
   "source": [
    "agent = Agent(state_size, action_size, SEED)"
   ]
  },
  {
   "cell_type": "code",
   "execution_count": 23,
   "metadata": {},
   "outputs": [
    {
     "name": "stdout",
     "output_type": "stream",
     "text": [
      "Episode 100\tAverage Score: 30.02\tScore: 36.74\tLossActor: -0.00976 \tLossCritic : 0.00014, mean_std : 0.05560\n",
      "\n",
      "Environment solved in 0 episodes!\tAverage Score: 30.02, \n",
      "Episode 200\tAverage Score: 37.41\tScore: 37.76\tLossActor: -0.01161 \tLossCritic : 0.00011, mean_std : 0.03836\n",
      "Episode 300\tAverage Score: 37.62\tScore: 36.56\tLossActor: -0.01338 \tLossCritic : 0.00017, mean_std : 0.03588\n",
      "Episode 400\tAverage Score: 37.48\tScore: 38.31\tLossActor: -0.01318 \tLossCritic : 0.00009, mean_std : 0.03572\n",
      "Episode 499\tAverage Score: 37.70\tScore: 38.32\tLossActor: -0.01370 \tLossCritic : 0.00012, mean_std : 0.03547"
     ]
    },
    {
     "data": {
      "image/png": "[encoded data removed]",
      "text/plain": [
       "<Figure size 640x480 with 1 Axes>"
      ]
     },
     "metadata": {},
     "output_type": "display_data"
    }
   ],
   "source": [
    "def ppo(n_episodes=500, max_t=1000):\n",
    "    scores_deque = deque(maxlen=100)\n",
    "    scores = []\n",
    "     \n",
    "    max_score = -np.Inf\n",
    "    first=True\n",
    "    for i_episode in range(1, n_episodes):\n",
    "        env_info = env.reset(train_mode=True)[brain_name]\n",
    "        states = env_info.vector_observations\n",
    "        #states = states[0]\n",
    "        agent.reset()\n",
    "        score = np.zeros(num_agents)\n",
    "        #score = 0\n",
    "        for t in range(max_t):\n",
    "            actions, distributions,log_probs = agent.act(states)#choose an action \n",
    "            env_info = env.step(actions)[brain_name]\n",
    "            #next_state, reward, done, _ = env.step(action)\n",
    "            next_states = env_info.vector_observations         # get next state (for each agent)\n",
    "            rewards = env_info.rewards                         # get reward (for each agent)\n",
    "            dones = env_info.local_done\n",
    "            agent.step(states, actions, rewards, next_states, dones, distributions,log_probs)#collect events\n",
    "            if (len(agent.memory.rewards)>agent.batch_size)&(len(agent.memory.rewards)%160==0):\n",
    "                agent.learn(next_states, GAMMA)\n",
    "            states = next_states\n",
    "            score += np.mean(rewards)\n",
    "            #print(dones)\n",
    "            \n",
    "            if np.any(dones):\n",
    "                break \n",
    "        #last_values = agent.critic_local(torch.FloatTensor(next_state))\n",
    "        #agent.memory\n",
    "        agent.learn(next_states, GAMMA)\n",
    "        agent.memory.clear_memory()\n",
    "        mean_score_paral = score.mean()\n",
    "        scores_deque.append(mean_score_paral)\n",
    "        scores.append(mean_score_paral)\n",
    "        print('\\rEpisode {}\\tAverage Score: {:.2f}\\tScore: {:.2f}\\tLossActor: {:.5f} \\tLossCritic : {:.5f}, mean_std : {:.5f}'.format(i_episode,\n",
    "                                                                                                                   np.mean(scores_deque),\n",
    "                                                                                                                   mean_score_paral,\n",
    "                                                                                                                   np.mean(agent.actor_loss_history[-min(100, len(agent.actor_loss_history)):]),\n",
    "                                                                                                                   np.mean(agent.critic_loss_history[-min(100, len(agent.critic_loss_history)):]),\n",
    "                                                                                                                \n",
    "                                                                                                                  agent.actor_local.sigma.mean()), end=\"\")\n",
    "        if i_episode % 100 == 0:\n",
    "            torch.save(agent.actor_local.state_dict(), 'checkpoint_actor_ppo_20agent.pth')\n",
    "            torch.save(agent.critic_local.state_dict(), 'checkpoint_critic_ppo_20agent.pth')\n",
    "            print('\\rEpisode {}\\tAverage Score: {:.2f}'.format(i_episode, np.mean(scores_deque)))\n",
    "        if np.mean(scores_deque)>30:\n",
    "            if first==True:\n",
    "                print('\\nEnvironment solved in {:d} episodes!\\tAverage Score: {:.2f}, '.format(\n",
    "                    i_episode-100, \n",
    "                    np.mean(scores_deque)))\n",
    "                torch.save(agent.actor_local.state_dict(), 'model_actor_ppo_20agent.pth')\n",
    "                torch.save(agent.critic_local.state_dict(), 'model_critic_ppo_20agent.pth')\n",
    "                first=False\n",
    "                #break\n",
    "    return scores\n",
    "\n",
    "scores = ppo()\n",
    "\n",
    "fig = plt.figure()\n",
    "ax = fig.add_subplot(111)\n",
    "plt.plot(np.arange(1, len(scores)+1), scores)\n",
    "plt.axhline(y=30, color='r', linestyle='--')\n",
    "plt.ylabel('Score')\n",
    "plt.xlabel('Episode #')\n",
    "plt.show()"
   ]
  },
  {
   "cell_type": "code",
   "execution_count": 24,
   "metadata": {
    "scrolled": true
   },
   "outputs": [
    {
     "data": {
      "image/png": "[encoded data removed]",
      "text/plain": [
       "<Figure size 640x480 with 1 Axes>"
      ]
     },
     "metadata": {},
     "output_type": "display_data"
    }
   ],
   "source": [
    "fig = plt.figure()\n",
    "ax = fig.add_subplot(111)\n",
    "plt.plot(np.arange(1, len(scores)+1), scores)\n",
    "plt.axhline(y=30, color='r', linestyle='--')\n",
    "plt.ylabel('Score')\n",
    "plt.xlabel('Episode #')\n",
    "plt.show()"
   ]
  },
  {
   "cell_type": "markdown",
   "metadata": {},
   "source": [
    "# See our Agent"
   ]
  },
  {
   "cell_type": "code",
   "execution_count": 25,
   "metadata": {},
   "outputs": [
    {
     "name": "stdout",
     "output_type": "stream",
     "text": [
      "Total score (averaged over agents) this episode: 38.764499133545904\n"
     ]
    }
   ],
   "source": [
    "env_info = env.reset(train_mode=False)[brain_name]     # reset the environment    \n",
    "states = env_info.vector_observations\n",
    "scores = np.zeros(num_agents)                          # initialize the score (for each agent)\n",
    "while True:\n",
    "    actions, distributions,log_probs = agent.act(states)#choose an action  # select an action (for each agent)\n",
    "    #actions = np.clip(actions, -1, 1)                  # all actions between -1 and 1\n",
    "    env_info = env.step(actions)[brain_name]           # send all actions to tne environment\n",
    "    next_states = env_info.vector_observations         # get next state (for each agent)\n",
    "    rewards = env_info.rewards                         # get reward (for each agent)\n",
    "    dones = env_info.local_done                        # see if episode finished\n",
    "    scores += env_info.rewards                         # update the score (for each agent)\n",
    "    states = next_states                               # roll over states to next time step\n",
    "    if np.any(dones):                                  # exit loop if episode finished\n",
    "        break\n",
    "print('Total score (averaged over agents) this episode: {}'.format(np.mean(scores)))"
   ]
  },
  {
   "cell_type": "code",
   "execution_count": 26,
   "metadata": {},
   "outputs": [],
   "source": [
    "env.close()"
   ]
  },
  {
   "cell_type": "markdown",
   "metadata": {},
   "source": [
    "### Notes :\n",
    "In this implementation of PPO, we took advice from our previous implementation (with single agent) and made some improvements : \n",
    "- weights are updating every 160 steps (previously, we were waiting the end of the episode to update ours networks)\n",
    "- Std of actor distribution is learn from indepentant parameters cf : model_ppo\n",
    "- **The range of the standard derivation of the Actor model is reduced**  (because I have observed when the variance was >2, the model stop to learn).So the range of Std is passed from `[np.exp(-1), np.exp(1)]` to `[(np.exp(-1)-0.3)/2, (np.exp(1)-0.3)/2]`. \n"
   ]
  },
  {
   "cell_type": "code",
   "execution_count": null,
   "metadata": {},
   "outputs": [],
   "source": []
  },
  {
   "cell_type": "markdown",
   "metadata": {},
   "source": [
    "### "
   ]
  }
 ],
 "metadata": {
  "kernelspec": {
   "display_name": "Python 3 (ipykernel)",
   "language": "python",
   "name": "python3"
  },
  "language_info": {
   "codemirror_mode": {
    "name": "ipython",
    "version": 3
   },
   "file_extension": ".py",
   "mimetype": "text/x-python",
   "name": "python",
   "nbconvert_exporter": "python",
   "pygments_lexer": "ipython3",
   "version": "3.9.16"
  }
 },
 "nbformat": 4,
 "nbformat_minor": 2
}
